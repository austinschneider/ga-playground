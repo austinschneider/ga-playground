{
 "cells": [
  {
   "cell_type": "code",
   "execution_count": 37,
   "id": "greater-contractor",
   "metadata": {},
   "outputs": [],
   "source": [
    "import numpy as np\n",
    "import collections\n",
    "import copy\n",
    "import typing\n",
    "import dataclasses"
   ]
  },
  {
   "cell_type": "code",
   "execution_count": 2,
   "id": "stainless-woman",
   "metadata": {},
   "outputs": [],
   "source": [
    "metric = [1, -1, -1, -1]\n",
    "\n",
    "def basis_from_string(sbasis):\n",
    "    lsbasis = sbasis.split(\",\")\n",
    "    if \"1\" in lsbasis and np.any(len(list(filter(str.isalpha, svector))) > 0 for svector in lsbasis):\n",
    "        lsbasis.remove(\"1\")\n",
    "\n",
    "    basis = [tuple()]\n",
    "    lsbasis = [\"\".join(filter(str.isdigit, svector)) for svector in lsbasis]\n",
    "    u, count = np.unique((len(s) for s in lsbasis), return_counts=True)\n",
    "    n = count[0]\n",
    "    digits = int(np.floor(np.log10(n))) + 1\n",
    "    \n",
    "    for s in lsbasis:\n",
    "        vec = tuple(int(s[i:i + digits]) for i in range(0, len(s), digits))\n",
    "        basis.append(vec)\n",
    "    return basis\n",
    "\n",
    "basis_vectors = basis_from_string(\"1,e0,e1,e2,e3,e10,e20,e30,e32,e13,e21,e123,e320,e130,e210,e0123\")"
   ]
  },
  {
   "cell_type": "code",
   "execution_count": 3,
   "id": "occupational-marshall",
   "metadata": {},
   "outputs": [],
   "source": [
    "class MVElement(typing.NamedTuple):\n",
    "    scalar: typing.Union[int, float]\n",
    "    blade: tuple"
   ]
  },
  {
   "cell_type": "code",
   "execution_count": 4,
   "id": "growing-lease",
   "metadata": {},
   "outputs": [],
   "source": [
    "def pretty_print(element, basis_vectors, metric):\n",
    "    s, v = element\n",
    "    scalar_str = str(s)\n",
    "    if s == 1:\n",
    "        scalar_str = \"\"\n",
    "    elif s == -1:\n",
    "        scalar_str = \"-\"\n",
    "    elif s == 0:\n",
    "        scalar_str = \"\"\n",
    "    \n",
    "    basis_str = \"e\" + \"\".join(str(vv) for vv in v)\n",
    "    if s == 0:\n",
    "        basis_str = \"\"\n",
    "    elif len(v) == 0:\n",
    "        basis_str = \"1\"\n",
    "    \n",
    "    return scalar_str + basis_str"
   ]
  },
  {
   "cell_type": "code",
   "execution_count": 5,
   "id": "alternative-rogers",
   "metadata": {},
   "outputs": [
    {
     "name": "stdout",
     "output_type": "stream",
     "text": [
      "    1: ()\n",
      "   e0: (0,)\n",
      "   e1: (1,)\n",
      "   e2: (2,)\n",
      "   e3: (3,)\n",
      "  e10: (1, 0)\n",
      "  e20: (2, 0)\n",
      "  e30: (3, 0)\n",
      "  e32: (3, 2)\n",
      "  e13: (1, 3)\n",
      "  e21: (2, 1)\n",
      " e123: (1, 2, 3)\n",
      " e320: (3, 2, 0)\n",
      " e130: (1, 3, 0)\n",
      " e210: (2, 1, 0)\n",
      "e0123: (0, 1, 2, 3)\n"
     ]
    }
   ],
   "source": [
    "format_str = \"{:>\" + str(1 + len(metric)) + \"}\"\n",
    "for blade in basis_vectors:\n",
    "    blade_str = str(blade)\n",
    "    pretty_blade_str = pretty_print((1.0, blade), basis_vectors, metric)\n",
    "    print(format_str.format(pretty_blade_str) + \": \" + blade_str)"
   ]
  },
  {
   "cell_type": "code",
   "execution_count": 6,
   "id": "initial-trial",
   "metadata": {},
   "outputs": [
    {
     "name": "stdout",
     "output_type": "stream",
     "text": [
      "      1     e0     e1     e2     e3    e10    e20    e30    e32    e13    e21   e123   e320   e130   e210  e0123\n",
      "     e0      1    e01    e02    e03    -e1    -e2    -e3   e032   e013   e021  e0123    e32    e13    e21   e123\n",
      "     e1    e10     -1    e12    e13    -e0   e120   e130   e132    -e3     e2   -e23  e1320   -e30    e20   e023\n",
      "     e2    e20    e21     -1    e23   e210    -e0   e230     e3   e213    -e1    e13    e30  e2130   -e10  -e013\n",
      "     e3    e30    e31    e32     -1   e310   e320    -e0    -e2     e1   e321   -e12   -e20    e10  e3210   e012\n",
      "    e10     e1     e0   e102   e103      1   -e12   -e13  e1032    e03   -e02   e023   e132    -e3     e2   -e23\n",
      "    e20     e2   e201     e0   e203   -e21      1   -e23   -e03  e2013    e01  -e013     e3   e213    -e1    e13\n",
      "    e30     e3   e301   e302     e0   -e31   -e32      1    e02   -e01  e3021   e012    -e2     e1   e321   -e12\n",
      "    e32   e320   e321    -e3     e2  e3210   -e30    e20     -1   -e21   -e31     e1    -e0  -e210  -e310    e01\n",
      "    e13   e130     e3   e132    -e1    e30  e1320   -e10   -e12     -1   -e32     e2  -e120    -e0  -e320    e02\n",
      "    e21   e210    -e2     e1   e213   -e20    e10  e2130   -e13   -e23     -1     e3  -e130  -e230    -e0    e03\n",
      "   e123  e1230   -e23    e13   -e12  -e230   e130  -e120     e1     e2     e3      1    e10    e20    e30    -e0\n",
      "   e320    e32  e3201    e30   -e20  -e321     e3    -e2    -e0   e201   e301    e01     -1   -e21   -e31     e1\n",
      "   e130    e13   -e30  e1302    e10    -e3  -e132     e1   e102    -e0   e302    e02   -e12     -1   -e32     e2\n",
      "   e210    e21    e20   -e10  e2103     e2    -e1  -e213   e103   e203    -e0    e03   -e13   -e23     -1     e3\n",
      "  e0123  -e123  -e023   e013  -e012   -e23    e13   -e12    e01    e02    e03     e0    -e1    -e2    -e3     -1\n"
     ]
    }
   ],
   "source": [
    "def simplify_element(element, basis_vectors, metric):\n",
    "    scalar, blade = element\n",
    "    \n",
    "    core_basis_vectors = [i[0] for i in basis_vectors if len(i) == 1]\n",
    "    idx_map = dict((v,i) for i,v in enumerate(core_basis_vectors))\n",
    "    \n",
    "    unique_base_vectors, vector_count = np.unique(blade, return_counts=True)\n",
    "    \n",
    "    if 0 in metric:\n",
    "        zero_vectors = [v for v,m in zip([vec[0] for vec in basis_vectors if len(vec) == 1], metric) if m == 0]\n",
    "        zero_vectors = [v for v in zero_vectors if v in unique_base_vectors]\n",
    "        is_zero = [vector_count[unique_base_vectors == v][0] > 1 for v in zero_vectors]\n",
    "        if np.any(is_zero):\n",
    "            return 0.0, tuple()\n",
    "    \n",
    "    is_negated = False\n",
    "    current_blade = copy.copy(blade)\n",
    "    while np.any([i > 1 for i in vector_count]):\n",
    "        target_vector = next(vector for vector, count in zip(unique_base_vectors, vector_count) if count > 1)\n",
    "        first_index = None\n",
    "        second_index = None\n",
    "        for index in range(len(current_blade)):\n",
    "            found = current_blade[index] == target_vector\n",
    "            if found:\n",
    "                if first_index is None:\n",
    "                    first_index = index\n",
    "                elif second_index is None:\n",
    "                    second_index = index\n",
    "                    break\n",
    "        \n",
    "        distance = second_index - first_index\n",
    "        is_negated ^= not (distance % 2)\n",
    "        is_negated ^= (metric[idx_map[target_vector]] < 0)\n",
    "        \n",
    "        current_blade = current_blade[:first_index] + current_blade[first_index+1:second_index] + current_blade[second_index+1:]\n",
    "        \n",
    "        unique_base_vectors, vector_count = np.unique(current_blade, return_counts=True)\n",
    "    \n",
    "    sign = 1.0 - 2.0 * is_negated\n",
    "    \n",
    "    return MVElement(scalar * sign, current_blade)\n",
    "\n",
    "n = len(basis_vectors)\n",
    "format_str = (\"{:>\" + str(3 + len(metric)) + \"}\")\n",
    "res = np.zeros((n,n)).tolist()\n",
    "for i in range(n):\n",
    "    for j in range(n):\n",
    "        res[i][j] = simplify_element(MVElement(1.0, basis_vectors[i] + basis_vectors[j]), basis_vectors, metric)\n",
    "    print((format_str*n).format(*[pretty_print((s,v), basis_vectors, metric) for s, v in res[i]]))"
   ]
  },
  {
   "cell_type": "code",
   "execution_count": 360,
   "id": "indie-eclipse",
   "metadata": {},
   "outputs": [],
   "source": [
    "def reduce_to_basis(element, basis_vectors, metric):\n",
    "    scalar, current_blade = simplify_element(element, basis_vectors, metric)\n",
    "\n",
    "    n = len(current_blade)\n",
    "    blades = [i for i in basis_vectors if len(i) == n]\n",
    "    blade_set_to_blade = dict((tuple(sorted(blade)), blade) for blade in blades)\n",
    "    \n",
    "    basis_blade = blade_set_to_blade[tuple(sorted(current_blade))]\n",
    "    \n",
    "    is_negated = False\n",
    "    #for first_index, target_vector in enumerate(current_blade):\n",
    "    #    second_index = np.arange(n)[[v == target_vector for v in basis_blade]][0]\n",
    "    #    distance = second_index - first_index\n",
    "    #    is_negated ^= (distance % 2 and second_index > first_index)\n",
    "    for first_index in range(len(basis_blade)):\n",
    "        target_vector = basis_blade[first_index]\n",
    "        second_index = np.arange(n)[[v == target_vector for v in current_blade]][0]\n",
    "        distance = second_index - first_index\n",
    "        is_negated ^= (distance % 2 and second_index > first_index)\n",
    "        current_blade = (target_vector,) + current_blade[:second_index] + current_blade[second_index+1:]\n",
    "    sign = 1.0 - 2.0 * is_negated\n",
    "    \n",
    "    return MVElement(scalar * sign, basis_blade)"
   ]
  },
  {
   "cell_type": "code",
   "execution_count": 361,
   "id": "statistical-collect",
   "metadata": {},
   "outputs": [
    {
     "name": "stdout",
     "output_type": "stream",
     "text": [
      "MVElement(scalar=1.0, blade=(1, 3, 0))\n",
      "MVElement(scalar=-1.0, blade=(1, 3, 0))\n",
      "MVElement(scalar=1.0, blade=(1, 3, 0))\n",
      "MVElement(scalar=-1.0, blade=(1, 3, 0))\n"
     ]
    }
   ],
   "source": [
    "print(reduce_to_basis(MVElement(1, (1,3,0)), basis_vectors, metric))\n",
    "print(reduce_to_basis(MVElement(1, (1,0,3)), basis_vectors, metric))\n",
    "print(reduce_to_basis(MVElement(1, (0,1,3)), basis_vectors, metric))\n",
    "print(reduce_to_basis(MVElement(1, (0,3,1)), basis_vectors, metric))"
   ]
  },
  {
   "cell_type": "code",
   "execution_count": 362,
   "id": "every-workshop",
   "metadata": {},
   "outputs": [
    {
     "name": "stdout",
     "output_type": "stream",
     "text": [
      "      1     e0     e1     e2     e3    e10    e20    e30    e32    e13    e21   e123   e320   e130   e210  e0123\n",
      "     e0      1   -e10   -e20   -e30    -e1    -e2    -e3   e320   e130   e210  e0123    e32    e13    e21   e123\n",
      "     e1    e10     -1   -e21    e13    -e0  -e210   e130  -e123    -e3     e2    e32  e0123   -e30    e20  -e320\n",
      "     e2    e20    e21     -1   -e32   e210    -e0  -e320     e3  -e123    -e1    e13    e30  e0123   -e10  -e130\n",
      "     e3    e30   -e13    e32     -1  -e130   e320    -e0    -e2     e1  -e123    e21   -e20    e10  e0123  -e210\n",
      "    e10     e1     e0   e210  -e130      1    e21   -e13  e0123   -e30    e20  -e320  -e123    -e3     e2    e32\n",
      "    e20     e2  -e210     e0   e320   -e21      1    e32    e30  e0123   -e10  -e130     e3  -e123    -e1    e13\n",
      "    e30     e3   e130  -e320     e0    e13   -e32      1   -e20    e10  e0123  -e210    -e2     e1  -e123    e21\n",
      "    e32   e320  -e123    -e3     e2  e0123   -e30    e20     -1   -e21    e13     e1    -e0  -e210   e130   -e10\n",
      "    e13   e130     e3  -e123    -e1    e30  e0123   -e10    e21     -1   -e32     e2   e210    -e0  -e320   -e20\n",
      "    e21   e210    -e2     e1  -e123   -e20    e10  e0123   -e13    e32     -1     e3  -e130   e320    -e0   -e30\n",
      "   e123 -e0123    e32    e13    e21   e320   e130   e210     e1     e2     e3      1    e10    e20    e30    -e0\n",
      "   e320    e32 -e0123    e30   -e20   e123     e3    -e2    -e0  -e210   e130   -e10     -1   -e21    e13     e1\n",
      "   e130    e13   -e30 -e0123    e10    -e3   e123     e1   e210    -e0  -e320   -e20    e21     -1   -e32     e2\n",
      "   e210    e21    e20   -e10 -e0123     e2    -e1   e123  -e130   e320    -e0   -e30   -e13    e32     -1     e3\n",
      "  e0123  -e123   e320   e130   e210    e32    e13    e21   -e10   -e20   -e30     e0    -e1    -e2    -e3     -1\n"
     ]
    }
   ],
   "source": [
    "n = len(basis_vectors)\n",
    "format_str = (\"{:>\" + str(3 + len(metric)) + \"}\")\n",
    "res = np.zeros((n,n)).tolist()\n",
    "for i in range(n):\n",
    "    for j in range(n):\n",
    "        res[i][j] = reduce_to_basis(MVElement(1.0, basis_vectors[i] + basis_vectors[j]), basis_vectors, metric)\n",
    "    print((format_str*n).format(*[pretty_print((s,v), basis_vectors, metric) for s, v in res[i]]))"
   ]
  },
  {
   "cell_type": "code",
   "execution_count": 363,
   "id": "hourly-class",
   "metadata": {},
   "outputs": [
    {
     "name": "stdout",
     "output_type": "stream",
     "text": [
      "      1     e0     e1     e2     e3    e10    e20    e30    e32    e13    e21   e123   e320   e130   e210  e0123\n",
      "     e0      1   -e10   -e20   -e30    -e1    -e2    -e3   e320   e130   e210  e0123    e32    e13    e21   e123\n",
      "     e1    e10     -1   -e21    e13    -e0  -e210   e130  -e123    -e3     e2    e32  e0123   -e30    e20  -e320\n",
      "     e2    e20    e21     -1   -e32   e210    -e0  -e320     e3  -e123    -e1    e13    e30  e0123   -e10  -e130\n",
      "     e3    e30   -e13    e32     -1  -e130   e320    -e0    -e2     e1  -e123    e21   -e20    e10  e0123  -e210\n",
      "    e10     e1     e0   e210  -e130      1    e21   -e13  e0123   -e30    e20  -e320  -e123    -e3     e2    e32\n",
      "    e20     e2  -e210     e0   e320   -e21      1    e32    e30  e0123   -e10  -e130     e3  -e123    -e1    e13\n",
      "    e30     e3   e130  -e320     e0    e13   -e32      1   -e20    e10  e0123  -e210    -e2     e1  -e123    e21\n",
      "    e32   e320  -e123    -e3     e2  e0123   -e30    e20     -1   -e21    e13     e1    -e0  -e210   e130   -e10\n",
      "    e13   e130     e3  -e123    -e1    e30  e0123   -e10    e21     -1   -e32     e2   e210    -e0  -e320   -e20\n",
      "    e21   e210    -e2     e1  -e123   -e20    e10  e0123   -e13    e32     -1     e3  -e130   e320    -e0   -e30\n",
      "   e123 -e0123    e32    e13    e21   e320   e130   e210     e1     e2     e3      1    e10    e20    e30    -e0\n",
      "   e320    e32 -e0123    e30   -e20   e123     e3    -e2    -e0  -e210   e130   -e10     -1   -e21    e13     e1\n",
      "   e130    e13   -e30 -e0123    e10    -e3   e123     e1   e210    -e0  -e320   -e20    e21     -1   -e32     e2\n",
      "   e210    e21    e20   -e10 -e0123     e2    -e1   e123  -e130   e320    -e0   -e30   -e13    e32     -1     e3\n",
      "  e0123  -e123   e320   e130   e210    e32    e13    e21   -e10   -e20   -e30     e0    -e1    -e2    -e3     -1\n"
     ]
    }
   ],
   "source": [
    "n = len(basis_vectors)\n",
    "format_str = (\"{:>\" + str(3 + len(metric)) + \"}\")\n",
    "res = np.zeros((n,n)).tolist()\n",
    "for i in range(n):\n",
    "    for j in range(n):\n",
    "        res[i][j] = reduce_to_basis(MVElement(1.0, basis_vectors[i] + basis_vectors[j]), basis_vectors, metric)\n",
    "    print((format_str*n).format(*[pretty_print((s,v), basis_vectors, metric) for s, v in res[i]]))"
   ]
  },
  {
   "cell_type": "code",
   "execution_count": 364,
   "id": "crazy-incident",
   "metadata": {},
   "outputs": [
    {
     "name": "stdout",
     "output_type": "stream",
     "text": [
      "[(0,), (1,), (2,), (3,)]\n",
      "[(1, 0), (2, 0), (3, 0)]\n",
      "[(3, 2), (1, 3), (2, 1)]\n",
      "[(1, 0), (2, 0), (3, 0), (3, 2), (1, 3), (2, 1)]\n",
      "[(), (1, 0), (2, 0), (3, 0)]\n",
      "[(), (3, 2), (1, 3), (2, 1)]\n",
      "[(), (1, 0), (2, 0), (3, 0), (3, 2), (1, 3), (2, 1)]\n"
     ]
    }
   ],
   "source": [
    "four_vector_blades = basis_vectors[1:5]\n",
    "print(four_vector_blades)\n",
    "boost_bivector_blades = basis_vectors[5:8]\n",
    "print(boost_bivector_blades)\n",
    "rotation_bivector_blades = basis_vectors[8:11]\n",
    "print(rotation_bivector_blades)\n",
    "bivector_blades = boost_bivector_blades + rotation_bivector_blades\n",
    "print(bivector_blades)\n",
    "\n",
    "boost_blades = basis_vectors[:1] + boost_bivector_blades\n",
    "print(boost_blades)\n",
    "rotation_blades = basis_vectors[:1] + rotation_bivector_blades\n",
    "print(rotation_blades)\n",
    "rotor_blades = basis_vectors[:1] + bivector_blades\n",
    "print(rotor_blades)\n",
    "\n",
    "valid_bases = [four_vector_blades, boost_bivector_blades, rotation_bivector_blades, bivector_blades, boost_blades, rotation_blades, rotor_blades]"
   ]
  },
  {
   "cell_type": "code",
   "execution_count": 365,
   "id": "designed-discussion",
   "metadata": {},
   "outputs": [],
   "source": [
    "def sort_blades(blades, basis_vectors):\n",
    "    basis_sort_map = dict(((v,i) for i,v in enumerate(basis_vectors)))\n",
    "    indices = sorted([basis_sort_map[b] for b in blades])\n",
    "    return [basis_vectors[i] for i in indices]"
   ]
  },
  {
   "cell_type": "code",
   "execution_count": 366,
   "id": "familiar-passport",
   "metadata": {},
   "outputs": [],
   "source": [
    "def is_symmetric(blade0, blade1):\n",
    "    element_0 = reduce_to_basis(MVElement(1, blade0 + blade1), basis_vectors, metric)\n",
    "    element_1 = reduce_to_basis(MVElement(1, blade1 + blade0), basis_vectors, metric)\n",
    "    return element_0.scalar == element_1.scalar"
   ]
  },
  {
   "cell_type": "code",
   "execution_count": 367,
   "id": "bright-alarm",
   "metadata": {},
   "outputs": [],
   "source": [
    "def elements_cancel(element0, element1):\n",
    "    scalar0, blade0 = reduce_to_basis(element0, basis_vectors, metric)\n",
    "    scalar1, blade1 = reduce_to_basis(element1, basis_vectors, metric)\n",
    "    return blade0 == blade1 and scalar0 == -scalar1"
   ]
  },
  {
   "cell_type": "code",
   "execution_count": null,
   "id": "incredible-intake",
   "metadata": {},
   "outputs": [],
   "source": []
  },
  {
   "cell_type": "code",
   "execution_count": 368,
   "id": "disabled-dress",
   "metadata": {
    "scrolled": true
   },
   "outputs": [
    {
     "name": "stdout",
     "output_type": "stream",
     "text": [
      "(0,) () True\n",
      "(0,) (1, 0) False\n",
      "(0,) (2, 0) False\n",
      "(0,) (3, 0) False\n",
      "(1,) () True\n",
      "(1,) (1, 0) False\n",
      "(1,) (2, 0) True\n",
      "(1,) (3, 0) True\n",
      "(2,) () True\n",
      "(2,) (1, 0) True\n",
      "(2,) (2, 0) False\n",
      "(2,) (3, 0) True\n",
      "(3,) () True\n",
      "(3,) (1, 0) True\n",
      "(3,) (2, 0) True\n",
      "(3,) (3, 0) False\n"
     ]
    }
   ],
   "source": [
    "for blade0 in four_vector_blades:\n",
    "    for blade1 in boost_blades:\n",
    "        print(blade0, blade1, is_symmetric(blade0, blade1))"
   ]
  },
  {
   "cell_type": "code",
   "execution_count": 369,
   "id": "permanent-segment",
   "metadata": {},
   "outputs": [
    {
     "name": "stdout",
     "output_type": "stream",
     "text": [
      "[(), (1, 0), (2, 0), (3, 0), (3, 2), (1, 3), (2, 1)]\n",
      "[(1, 0), (2, 0), (3, 0), (3, 2), (1, 3), (2, 1)]\n",
      "[()]\n"
     ]
    }
   ],
   "source": [
    "def determine_product_rank(blades0, blades1):\n",
    "    products = set()\n",
    "    for blade0 in blades0:\n",
    "        for blade1 in blades1:\n",
    "            product_element = reduce_to_basis(MVElement(1.0, blade0 + blade1), basis_vectors, metric)\n",
    "            new_blade = product_element.blade\n",
    "            products.add(new_blade)\n",
    "    return sort_blades(products, basis_vectors)\n",
    "\n",
    "def determine_outer_product_rank(blades0, blades1):\n",
    "    products = set()\n",
    "    for blade0 in blades0:\n",
    "        for blade1 in blades1:\n",
    "            product_element_0 = reduce_to_basis(MVElement(1.0, blade0 + blade1), basis_vectors, metric)\n",
    "            product_element_1 = reduce_to_basis(MVElement(1.0, blade1 + blade0), basis_vectors, metric)\n",
    "            if product_element_0.scalar != product_element_1.scalar:\n",
    "                new_blade = product_element_0.blade\n",
    "                products.add(new_blade)\n",
    "    return sort_blades(products, basis_vectors)\n",
    "\n",
    "def determine_inner_product_rank(blades0, blades1):\n",
    "    products = set()\n",
    "    for blade0 in blades0:\n",
    "        for blade1 in blades1:\n",
    "            product_element_0 = reduce_to_basis(MVElement(1.0, blade0 + blade1), basis_vectors, metric)\n",
    "            product_element_1 = reduce_to_basis(MVElement(1.0, blade1 + blade0), basis_vectors, metric)\n",
    "            if product_element_0.scalar == product_element_1.scalar:\n",
    "                new_blade = product_element_0.blade\n",
    "                products.add(new_blade)\n",
    "    return sort_blades(products, basis_vectors)\n",
    "\n",
    "print(determine_product_rank(four_vector_blades, four_vector_blades))\n",
    "print(determine_outer_product_rank(four_vector_blades, four_vector_blades))\n",
    "print(determine_inner_product_rank(four_vector_blades, four_vector_blades))"
   ]
  },
  {
   "cell_type": "code",
   "execution_count": 370,
   "id": "convinced-amsterdam",
   "metadata": {},
   "outputs": [
    {
     "name": "stdout",
     "output_type": "stream",
     "text": [
      "[(), (1, 0), (2, 0), (3, 0)]\n",
      "[(1, 0), (2, 0), (3, 0)]\n",
      "[()]\n"
     ]
    }
   ],
   "source": [
    "print(determine_product_rank(four_vector_blades, [(0,)]))\n",
    "print(determine_outer_product_rank(four_vector_blades, [(0,)]))\n",
    "print(determine_inner_product_rank(four_vector_blades, [(0,)]))"
   ]
  },
  {
   "cell_type": "code",
   "execution_count": 371,
   "id": "through-soccer",
   "metadata": {},
   "outputs": [
    {
     "name": "stdout",
     "output_type": "stream",
     "text": [
      "[(0,), (1,), (2,), (3,), (3, 2, 0), (1, 3, 0), (2, 1, 0)]\n",
      "[(0,), (1,), (2,), (3,)]\n",
      "[(0,), (1,), (2,), (3,), (3, 2, 0), (1, 3, 0), (2, 1, 0)]\n"
     ]
    }
   ],
   "source": [
    "print(determine_product_rank(four_vector_blades, boost_blades))\n",
    "print(determine_outer_product_rank(four_vector_blades, boost_blades))\n",
    "print(determine_inner_product_rank(four_vector_blades, boost_blades))"
   ]
  },
  {
   "cell_type": "code",
   "execution_count": 372,
   "id": "wanted-surgeon",
   "metadata": {},
   "outputs": [],
   "source": [
    "class ElementSource(typing.NamedTuple):\n",
    "    sourceID: str\n",
    "    loc: int\n",
    "    blade: tuple\n",
    "\n",
    "class BinarOp(typing.NamedTuple):\n",
    "    op: str\n",
    "    sign0: int\n",
    "    sign1: int\n",
    "    source0: any\n",
    "    source1: any\n",
    "\n",
    "class ChainOp(typing.NamedTuple):\n",
    "    op: str\n",
    "    signs: list\n",
    "    sources: list"
   ]
  },
  {
   "cell_type": "code",
   "execution_count": 373,
   "id": "contemporary-plumbing",
   "metadata": {},
   "outputs": [
    {
     "data": {
      "text/plain": [
       "(True, False)"
      ]
     },
     "execution_count": 373,
     "metadata": {},
     "output_type": "execute_result"
    }
   ],
   "source": [
    "a = ElementSource(\"v0\", 1, (0,))\n",
    "b = ElementSource(\"v0\", 1, (0,))\n",
    "c = ElementSource(\"v0\", 1, (1,))\n",
    "a == b, b == c"
   ]
  },
  {
   "cell_type": "code",
   "execution_count": 394,
   "id": "optional-manner",
   "metadata": {},
   "outputs": [
    {
     "data": {
      "text/plain": [
       "(A[0]+B[0])e0"
      ]
     },
     "execution_count": 394,
     "metadata": {},
     "output_type": "execute_result"
    }
   ],
   "source": [
    "class _ASTSource(typing.NamedTuple):\n",
    "    sourceID: str\n",
    "    loc: int\n",
    "\n",
    "class ASTSource(_ASTSource):\n",
    "    def __repr__(self):\n",
    "        return self.sourceID + \"[\" + str(self.loc) + \"]\"\n",
    "\n",
    "class _ASTElement(typing.NamedTuple):\n",
    "    blade: tuple\n",
    "    factor: float = 1\n",
    "    sources: collections.Counter = None\n",
    "    def is_like(self, other):\n",
    "        #print(self, other, self.blade == other.blade, self.sources == other.sources)\n",
    "        return (self.blade == other.blade) and (self.sources == other.sources)\n",
    "\n",
    "class ASTElement(_ASTElement):\n",
    "    __slots__ = ()\n",
    "    def __new__(cls, *args, **kwargs):\n",
    "        obj = super().__new__(cls, *args, **kwargs)\n",
    "        if obj.sources is None:\n",
    "            obj = obj._replace(sources=[])\n",
    "        return obj\n",
    "    def __repr__(self):\n",
    "        if self.factor == 1:\n",
    "            f = \"\"\n",
    "        elif self.factor == -1:\n",
    "            f = \"-\"\n",
    "        else:\n",
    "            f = str(self.factor) + \"*\"\n",
    "        s = \"\".join([(str(k)+(\"^\"+str(count) if count > 1 else \"\") if count > 0 else \"\") for (k,count),count in self.sources.items()])\n",
    "        b = \"e\" + \"\".join([str(d) for d in self.blade])\n",
    "        return f\"{f}{s}*{b}\"\n",
    "\n",
    "class _ASTSum(typing.NamedTuple):\n",
    "    blade: tuple\n",
    "    elements: list = dataclasses.field(default_factory=list)\n",
    "\n",
    "class ASTSum(_ASTSum):\n",
    "    def __repr__(self):\n",
    "        element_strings = []\n",
    "        blade_str = b = \"e\" + \"\".join([str(d) for d in self.blade])\n",
    "        for element in self.elements:\n",
    "            element_string = str(element)\n",
    "            idx = element_string.rfind(\"*\")\n",
    "            element_string = element_string[:idx]\n",
    "            element_strings.append(element_string)\n",
    "        if len(element_strings) == 1:\n",
    "            return element_strings[0] + blade_str\n",
    "        else:\n",
    "            if np.all([s[0] == \"-\" for s in element_strings]):\n",
    "                return \"-(\" + \"+\".join([s[1:] for s in element_strings]) + \")\" + blade_str\n",
    "            else:\n",
    "                return \"(\" + element_strings[0] + \"\".join([(s if s[0] == \"-\" else \"+\" + s) for s in element_strings[1:]]) + \")\" + blade_str\n",
    "\n",
    "class _ASTMultiVector(typing.NamedTuple):\n",
    "    sums: list = None\n",
    "    blades: list = None\n",
    "    blade_index: dict = None\n",
    "    def set_blade(self, blade, value):\n",
    "        self.sums[self.blade_index[blade]] = value\n",
    "\n",
    "class ASTMultiVector(_ASTMultiVector):\n",
    "    __slots__ = ()\n",
    "    def __new__(cls, *args, **kwargs):\n",
    "        obj = super().__new__(cls, *args, **kwargs)\n",
    "        if obj.blades is None:\n",
    "            obj = obj._replace(blades=copy.copy(basis_vectors))\n",
    "        if obj.sums is None:\n",
    "            obj = obj._replace(sums=[None for i in range(len(obj.blades))])\n",
    "        if obj.blade_index is None:\n",
    "            obj = obj._replace(blade_index=dict([(v,i) for i,v in enumerate(obj.blades)]))\n",
    "        return obj\n",
    "    def __repr__(self):\n",
    "        if np.all([s is None for s in self.sums]):\n",
    "            return \"0\"\n",
    "        element_strings = [str(s) for s in self.sums if s is not None]\n",
    "        return element_strings[0] + \"\".join([(\" - \" + s[1:] if s[0] == \"-\" else \" + \" + s) for s in element_strings[1:]])\n",
    "        #return \" + \".join([str(s) for s in self.sums if s is not None])\n",
    "        \n",
    "def make_element(sourceID, loc, blade):\n",
    "    scalar, blade = reduce_to_basis(MVElement(1.0, blade), basis_vectors, metric)\n",
    "    source = ASTSource(sourceID=sourceID, loc=loc)\n",
    "    counter = collections.Counter([(source, 1)])\n",
    "    element = ASTElement(sources=counter, factor=scalar, blade=blade)\n",
    "    element_sum = ASTSum(elements=[element], blade=blade)\n",
    "    multivector = ASTMultiVector()\n",
    "    multivector.set_blade(blade, element_sum)\n",
    "    return multivector\n",
    "\n",
    "def multivector_add(mv0, mv1):\n",
    "    res = copy.copy(mv0)\n",
    "    return multivector_add_assign(res, mv1)\n",
    "\n",
    "def multivector_add_assign(mv0, mv1):\n",
    "    assert(mv0.blades == mv1.blades)\n",
    "    for i, blade in enumerate(mv0.blades):\n",
    "        if mv0.sums[i] is None:\n",
    "            mv0.sums[i] = mv1.sums[i]\n",
    "        elif mv1.sums[i] is None:\n",
    "            pass\n",
    "        else:\n",
    "            sum0 = mv0.sums[i]\n",
    "            sum1 = mv1.sums[i]\n",
    "            element_idx_to_remove = []\n",
    "            elements_to_add = []\n",
    "            for idx_s1, elem1 in enumerate(sum1.elements):\n",
    "                found_like_element = False\n",
    "                for idx_s0, elem0 in enumerate(sum0.elements):\n",
    "                    if elem1.is_like(elem0):\n",
    "                        found_like_element = True\n",
    "                        new_factor = elem0.factor + elem1.factor\n",
    "                        if new_factor == 0:\n",
    "                            element_idx_to_remove.append(idx_s0)\n",
    "                        else:\n",
    "                            new_element = ASTElement(\n",
    "                                sources=elem0.sources,\n",
    "                                blade=elem0.blade,\n",
    "                                factor=new_factor\n",
    "                            )\n",
    "                            sum0.elements[idx_s0] = new_element\n",
    "                        \n",
    "                        found_like_element = True\n",
    "                        break\n",
    "                if found_like_element:\n",
    "                    pass\n",
    "                else:\n",
    "                    elements_to_add.append(elem1)\n",
    "            for idx in reversed(sorted(element_idx_to_remove)):\n",
    "                del sum0.elements[idx]\n",
    "            sum0.elements.extend(elements_to_add)\n",
    "            if len(sum0.elements) == 0:\n",
    "                mv0.sums[i] = None\n",
    "    return mv0\n",
    "\n",
    "a = make_element(\"A\", 0, (0,))\n",
    "b = make_element(\"B\", 0, (0,))\n",
    "multivector_add(a, b)"
   ]
  },
  {
   "cell_type": "code",
   "execution_count": 395,
   "id": "central-arcade",
   "metadata": {},
   "outputs": [
    {
     "data": {
      "text/plain": [
       "A[0]B[0]e2"
      ]
     },
     "execution_count": 395,
     "metadata": {},
     "output_type": "execute_result"
    }
   ],
   "source": [
    "def element_mul(element0, element1, blade=None, scalar=1.0):\n",
    "    sources0, sources1 = element0.sources, element1.sources\n",
    "    factor0, factor1 = element0.factor, element1.factor\n",
    "    \n",
    "    sources = copy.copy(sources0)\n",
    "    sources.update(sources1)\n",
    "    factor = factor0 * factor1\n",
    "    \n",
    "    if blade is None:\n",
    "        blade0 = element0.blade\n",
    "        blade1 = element1.blade\n",
    "        scalar, blade = reduce_to_basis(MVElement(1.0, blade0 + blade1), basis_vectors, metric)\n",
    "    \n",
    "    element = ASTElement(\n",
    "        blade=blade,\n",
    "        factor=factor*scalar,\n",
    "        sources=sources,\n",
    "    )\n",
    "    return element\n",
    "\n",
    "def multivector_mul(mv0, mv1):\n",
    "    res = ASTMultiVector()\n",
    "    elements = dict()\n",
    "    for idx0, blade0 in enumerate(mv0.blades):\n",
    "        sum0 = mv0.sums[idx0]\n",
    "        if sum0 is None:\n",
    "            continue\n",
    "        for idx1, blade1 in enumerate(mv1.blades):\n",
    "            sum1 = mv1.sums[idx1]\n",
    "            if sum1 is None:\n",
    "                continue\n",
    "            scalar, blade = reduce_to_basis(MVElement(1.0, blade0 + blade1), basis_vectors, metric)\n",
    "            if blade not in elements:\n",
    "                elements[blade] = []\n",
    "            elems = elements[blade]\n",
    "            for element0 in sum0.elements:\n",
    "                for element1 in sum1.elements:\n",
    "                    elems.append(element_mul(element0, element1, blade=blade, scalar=scalar))\n",
    "                    #print(elems[-1])\n",
    "            combined_elements = []\n",
    "            is_combined = [False for i in range(len(elems))]\n",
    "            for idx_e0 in range(len(elems)):\n",
    "                if is_combined[idx_e0]:\n",
    "                    continue\n",
    "                to_combine = [idx_e0]\n",
    "                for idx_e1 in range(idx_e0+1, len(elems)):\n",
    "                    if (not is_combined[idx_e1]) and elems[idx_e0].is_like(elems[idx_e1]):\n",
    "                        to_combine.append(idx_e1)\n",
    "                #print(\"To combine:\", [elems[combine_idx] for combine_idx in to_combine])\n",
    "                if len(to_combine) == 1:\n",
    "                    #print(\"Not combining\")\n",
    "                    combined_elements.append(elems[idx_e0])\n",
    "                else:\n",
    "                    #print(\"Combining:\", [elems[combine_idx].factor for combine_idx in to_combine])\n",
    "                    factor = np.sum([elems[combine_idx].factor for combine_idx in to_combine])\n",
    "                    #print(\"Factor:\", factor)\n",
    "                    if factor != 0:\n",
    "                        new_elem = ASTElement(blade=blade, factor=factor, sources=elems[idx_e0].sources)\n",
    "                        combined_elements.append(new_elem)\n",
    "                    for idx in to_combine:\n",
    "                        is_combined[idx] = True\n",
    "            #print(\"Combined:\", combined_elements)\n",
    "            elements[blade] = combined_elements\n",
    "    for blade, element_list in elements.items():\n",
    "        if len(element_list) > 0:\n",
    "            res.sums[res.blade_index[blade]] = ASTSum(elements=element_list, blade=blade)\n",
    "    return res\n",
    "\n",
    "a = make_element(\"A\", 0, (1,2))\n",
    "b = make_element(\"B\", 0, (1,))\n",
    "multivector_mul(a, b)"
   ]
  },
  {
   "cell_type": "code",
   "execution_count": 396,
   "id": "earlier-scratch",
   "metadata": {},
   "outputs": [
    {
     "data": {
      "text/plain": [
       "-A[0]B[0]e2"
      ]
     },
     "execution_count": 396,
     "metadata": {},
     "output_type": "execute_result"
    }
   ],
   "source": [
    "def multivector_negate(mv):\n",
    "    res = ASTMultiVector()\n",
    "    for idx, blade in enumerate(mv.blades):\n",
    "        element_sum = mv.sums[idx]\n",
    "        if element_sum is None:\n",
    "            pass\n",
    "        else:\n",
    "            elements = [ASTElement(blade=blade, factor=-element.factor, sources=element.sources) for element in element_sum.elements]\n",
    "            res.sums[idx] = ASTSum(blade=blade, elements=elements)\n",
    "    return res\n",
    "\n",
    "a = make_element(\"A\", 0, (1,2))\n",
    "b = make_element(\"B\", 0, (1,))\n",
    "multivector_negate(multivector_mul(a, b))"
   ]
  },
  {
   "cell_type": "code",
   "execution_count": 397,
   "id": "formed-oxygen",
   "metadata": {},
   "outputs": [
    {
     "data": {
      "text/plain": [
       "0.5*A[0]B[0]e2"
      ]
     },
     "execution_count": 397,
     "metadata": {},
     "output_type": "execute_result"
    }
   ],
   "source": [
    "def multivector_scalar_mul(mv, scalar):\n",
    "    res = ASTMultiVector()\n",
    "    for idx, blade in enumerate(mv.blades):\n",
    "        element_sum = mv.sums[idx]\n",
    "        if element_sum is None:\n",
    "            pass\n",
    "        else:\n",
    "            elements = [ASTElement(blade=blade, factor=scalar * element.factor, sources=element.sources) for element in element_sum.elements]\n",
    "            res.sums[idx] = ASTSum(blade=blade, elements=elements)\n",
    "    return res\n",
    "\n",
    "a = make_element(\"A\", 0, (1,2))\n",
    "b = make_element(\"B\", 0, (1,))\n",
    "multivector_scalar_mul(multivector_mul(a, b), 0.5)"
   ]
  },
  {
   "cell_type": "code",
   "execution_count": 398,
   "id": "adult-aluminum",
   "metadata": {},
   "outputs": [
    {
     "name": "stdout",
     "output_type": "stream",
     "text": [
      "-(A[1]^2+A[2]^2+A[0]^2)e\n",
      "-(A[1]^2+A[2]^2+A[0]^2)e\n",
      "0\n",
      "\n",
      "B[0]e10 + B[1]e20 + B[2]e30\n",
      "(B[0]^2+B[1]^2+B[2]^2)e\n",
      "(B[0]^2+B[1]^2+B[2]^2)e\n",
      "0\n",
      "\n",
      "C[0]^2e\n",
      "0\n",
      "\n",
      "(A[0]B[0]+A[1]B[1]+A[2]B[2])e + (A[1]B[2]-A[2]B[1])e32 + (-A[0]B[2]+A[2]B[0])e13 + (A[0]B[1]-A[1]B[0])e21\n",
      "(A[0]B[0]+A[1]B[1]+A[2]B[2])e\n",
      "(A[1]B[2]-A[2]B[1])e32 + (-A[0]B[2]+A[2]B[0])e13 + (A[0]B[1]-A[1]B[0])e21\n"
     ]
    }
   ],
   "source": [
    "a = multivector_add(multivector_add(make_element(\"A\", 0, (2,1)), make_element(\"A\", 1, (3,2))), make_element(\"A\", 2, (1,3)))\n",
    "print(multivector_mul(a, a))\n",
    "print(multivector_scalar_mul(multivector_add(multivector_mul(a, a), multivector_mul(a, a)), 0.5))\n",
    "print(multivector_scalar_mul(multivector_add(multivector_mul(a, a), multivector_negate(multivector_mul(a, a))), 0.5))\n",
    "print()\n",
    "\n",
    "b = multivector_add(multivector_add(make_element(\"B\", 0, (1,0)), make_element(\"B\", 1, (2,0))), make_element(\"B\", 2, (3,0)))\n",
    "print(b)\n",
    "print(multivector_mul(b, b))\n",
    "print(multivector_scalar_mul(multivector_add(multivector_mul(b, b), multivector_mul(b, b)), 0.5))\n",
    "print(multivector_scalar_mul(multivector_add(multivector_mul(b, b), multivector_negate(multivector_mul(b, b))), 0.5))\n",
    "print()\n",
    "\n",
    "c = make_element(\"C\", 0, (1,0))\n",
    "print(multivector_scalar_mul(multivector_add(multivector_mul(c, c), multivector_mul(c, c)), 0.5))\n",
    "print(multivector_scalar_mul(multivector_add(multivector_mul(c, c), multivector_negate(multivector_mul(c, c))), 0.5))\n",
    "print()\n",
    "\n",
    "a = multivector_add(multivector_add(make_element(\"A\", 0, (1,0)), make_element(\"A\", 1, (2,0))), make_element(\"A\", 2, (3,0)))\n",
    "b = multivector_add(multivector_add(make_element(\"B\", 0, (1,0)), make_element(\"B\", 1, (2,0))), make_element(\"B\", 2, (3,0)))\n",
    "print(multivector_mul(a, b))\n",
    "print(multivector_scalar_mul(multivector_add(multivector_mul(a, b), multivector_mul(b, a)), 0.5))\n",
    "print(multivector_scalar_mul(multivector_add(multivector_mul(a, b), multivector_negate(multivector_mul(b, a))), 0.5))"
   ]
  },
  {
   "cell_type": "code",
   "execution_count": 399,
   "id": "flying-bench",
   "metadata": {},
   "outputs": [],
   "source": [
    "def multivector_involution(mv):\n",
    "    res = ASTMultiVector()\n",
    "    for idx, blade in enumerate(mv.blades):\n",
    "        element_sum = mv.sums[idx]\n",
    "        if element_sum is None:\n",
    "            pass\n",
    "        else:\n",
    "            elements = [ASTElement(blade=blade, factor=element.factor*((-1)**len(blade)), sources=element.sources) for element in element_sum.elements]\n",
    "            res.sums[idx] = ASTSum(blade=blade, elements=elements)\n",
    "    return res\n",
    "\n",
    "def multivector_reversion(mv):\n",
    "    res = ASTMultiVector()\n",
    "    for idx, blade in enumerate(mv.blades):\n",
    "        element_sum = mv.sums[idx]\n",
    "        if element_sum is None:\n",
    "            pass\n",
    "        elif reduce_to_basis(MVElement(1, blade[::-1]), basis_vectors, metric)[0] == -1:\n",
    "            elements = [ASTElement(blade=blade, factor=-element.factor, sources=element.sources) for element in element_sum.elements]\n",
    "            res.sums[idx] = ASTSum(blade=blade, elements=elements)\n",
    "        else:\n",
    "            res.sums[idx] = copy.copy(element_sum)\n",
    "    return res\n",
    "\n",
    "def multivector_conjugate(mv):\n",
    "    return multivector_involution(multivector_reversion(mv))"
   ]
  },
  {
   "cell_type": "code",
   "execution_count": 400,
   "id": "quality-kruger",
   "metadata": {},
   "outputs": [
    {
     "name": "stdout",
     "output_type": "stream",
     "text": [
      "A[0]e - A[1]e0 - A[2]e1 - A[3]e2 - A[4]e3 + A[5]e10 + A[6]e20 + A[7]e30 + A[8]e32 + A[9]e13 + A[10]e21 - A[11]e123 - A[12]e320 - A[13]e130 - A[14]e210 + A[15]e0123\n",
      "\n",
      "A[0]e + A[1]e0 + A[2]e1 + A[3]e2 + A[4]e3 - A[5]e10 - A[6]e20 - A[7]e30 - A[8]e32 - A[9]e13 - A[10]e21 - A[11]e123 - A[12]e320 - A[13]e130 - A[14]e210 + A[15]e0123\n",
      "\n",
      "A[0]e - A[1]e0 - A[2]e1 - A[3]e2 - A[4]e3 - A[5]e10 - A[6]e20 - A[7]e30 - A[8]e32 - A[9]e13 - A[10]e21 + A[11]e123 + A[12]e320 + A[13]e130 + A[14]e210 + A[15]e0123\n"
     ]
    }
   ],
   "source": [
    "import functools\n",
    "a = functools.reduce(multivector_add, [make_element(\"A\", i, basis_vectors[i]) for i in range(len(basis_vectors))])\n",
    "print(multivector_involution(a))\n",
    "print()\n",
    "print(multivector_reversion(a))\n",
    "print()\n",
    "print(multivector_conjugate(a))"
   ]
  },
  {
   "cell_type": "code",
   "execution_count": 401,
   "id": "experimental-discipline",
   "metadata": {},
   "outputs": [
    {
     "data": {
      "text/plain": [
       "(A[0]B[0]+A[1]B[1]-A[2]B[2]-A[3]B[3]-A[4]B[4]+A[5]B[5]+A[6]B[6]+A[7]B[7]-A[8]B[8]-A[9]B[9]-A[10]B[10]+A[11]B[11]-A[12]B[12]-A[13]B[13]-A[14]B[14]-A[15]B[15])e + (A[0]B[1]+A[1]B[0]-A[2]B[5]-A[3]B[6]-A[4]B[7]+A[5]B[2]+A[6]B[3]+A[7]B[4]-A[8]B[12]-A[9]B[13]-A[10]B[14]-A[11]B[15]-A[12]B[8]-A[13]B[9]-A[14]B[10]+A[15]B[11])e0 + (A[0]B[2]-A[1]B[5]+A[2]B[0]-A[3]B[10]+A[4]B[9]+A[5]B[1]-A[6]B[14]+A[7]B[13]+A[8]B[11]-A[9]B[4]+A[10]B[3]+A[11]B[8]+A[12]B[15]+A[13]B[7]-A[14]B[6]-A[15]B[12])e1 + (A[0]B[3]-A[1]B[6]+A[2]B[10]+A[3]B[0]-A[4]B[8]+A[5]B[14]+A[6]B[1]-A[7]B[12]+A[8]B[4]+A[9]B[11]-A[10]B[2]+A[11]B[9]-A[12]B[7]+A[13]B[15]+A[14]B[5]-A[15]B[13])e2 + (A[0]B[4]-A[1]B[7]-A[2]B[9]+A[3]B[8]+A[4]B[0]-A[5]B[13]+A[6]B[12]+A[7]B[1]-A[8]B[3]+A[9]B[2]+A[10]B[11]+A[11]B[10]+A[12]B[6]-A[13]B[5]+A[14]B[15]-A[15]B[14])e3 + (A[0]B[5]-A[1]B[2]+A[2]B[1]-A[3]B[14]+A[4]B[13]+A[5]B[0]-A[6]B[10]+A[7]B[9]-A[8]B[15]-A[9]B[7]+A[10]B[6]+A[11]B[12]-A[12]B[11]+A[13]B[4]-A[14]B[3]-A[15]B[8])e10 + (A[0]B[6]-A[1]B[3]+A[2]B[14]+A[3]B[1]-A[4]B[12]+A[5]B[10]+A[6]B[0]-A[7]B[8]+A[8]B[7]-A[9]B[15]-A[10]B[5]+A[11]B[13]-A[12]B[4]-A[13]B[11]+A[14]B[2]-A[15]B[9])e20 + (A[0]B[7]-A[1]B[4]-A[2]B[13]+A[3]B[12]+A[4]B[1]-A[5]B[9]+A[6]B[8]+A[7]B[0]-A[8]B[6]+A[9]B[5]-A[10]B[15]+A[11]B[14]+A[12]B[3]-A[13]B[2]-A[14]B[11]-A[15]B[10])e30 + (A[0]B[8]+A[1]B[12]+A[2]B[11]-A[3]B[4]+A[4]B[3]+A[5]B[15]+A[6]B[7]-A[7]B[6]+A[8]B[0]-A[9]B[10]+A[10]B[9]+A[11]B[2]+A[12]B[1]-A[13]B[14]+A[14]B[13]+A[15]B[5])e32 + (A[0]B[9]+A[1]B[13]+A[2]B[4]+A[3]B[11]-A[4]B[2]-A[5]B[7]+A[6]B[15]+A[7]B[5]+A[8]B[10]+A[9]B[0]-A[10]B[8]+A[11]B[3]+A[12]B[14]+A[13]B[1]-A[14]B[12]+A[15]B[6])e13 + (A[0]B[10]+A[1]B[14]-A[2]B[3]+A[3]B[2]+A[4]B[11]+A[5]B[6]-A[6]B[5]+A[7]B[15]-A[8]B[9]+A[9]B[8]+A[10]B[0]+A[11]B[4]-A[12]B[13]+A[13]B[12]+A[14]B[1]+A[15]B[7])e21 + (A[0]B[11]+A[1]B[15]-A[2]B[8]-A[3]B[9]-A[4]B[10]-A[5]B[12]-A[6]B[13]-A[7]B[14]-A[8]B[2]-A[9]B[3]-A[10]B[4]+A[11]B[0]+A[12]B[5]+A[13]B[6]+A[14]B[7]-A[15]B[1])e123 + (A[0]B[12]+A[1]B[8]-A[2]B[15]-A[3]B[7]+A[4]B[6]-A[5]B[11]+A[6]B[4]-A[7]B[3]+A[8]B[1]-A[9]B[14]+A[10]B[13]+A[11]B[5]+A[12]B[0]-A[13]B[10]+A[14]B[9]+A[15]B[2])e320 + (A[0]B[13]+A[1]B[9]+A[2]B[7]-A[3]B[15]-A[4]B[5]-A[5]B[4]-A[6]B[11]+A[7]B[2]+A[8]B[14]+A[9]B[1]-A[10]B[12]+A[11]B[6]+A[12]B[10]+A[13]B[0]-A[14]B[8]+A[15]B[3])e130 + (A[0]B[14]+A[1]B[10]-A[2]B[6]+A[3]B[5]-A[4]B[15]+A[5]B[3]-A[6]B[2]-A[7]B[11]-A[8]B[13]+A[9]B[12]+A[10]B[1]+A[11]B[7]-A[12]B[9]+A[13]B[8]+A[14]B[0]+A[15]B[4])e210 + (A[0]B[15]+A[1]B[11]+A[2]B[12]+A[3]B[13]+A[4]B[14]+A[5]B[8]+A[6]B[9]+A[7]B[10]+A[8]B[5]+A[9]B[6]+A[10]B[7]-A[11]B[1]-A[12]B[2]-A[13]B[3]-A[14]B[4]+A[15]B[0])e0123"
      ]
     },
     "execution_count": 401,
     "metadata": {},
     "output_type": "execute_result"
    }
   ],
   "source": [
    "a = functools.reduce(multivector_add, [make_element(\"A\", i, basis_vectors[i]) for i in range(len(basis_vectors))])\n",
    "b = functools.reduce(multivector_add, [make_element(\"B\", i, basis_vectors[i]) for i in range(len(basis_vectors))])\n",
    "multivector_mul(a, b)"
   ]
  },
  {
   "cell_type": "code",
   "execution_count": 402,
   "id": "illegal-marshall",
   "metadata": {},
   "outputs": [],
   "source": [
    "def multivector_dual(mv):\n",
    "    res = ASTMultiVector()\n",
    "    pseudoscalar = res.blades[-1]\n",
    "    pss_set = set(pseudoscalar)\n",
    "    for idx, blade in enumerate(mv.blades):\n",
    "        element_sum = mv.sums[idx]\n",
    "        if element_sum is None:\n",
    "            pass\n",
    "        else:\n",
    "            blade_set = set(blade)\n",
    "            inv_blade = tuple(i for i in pseudoscalar if i not in blade_set)\n",
    "            _, inv_blade = reduce_to_basis(MVElement(1, inv_blade), basis_vectors, metric)\n",
    "            sign, _ = reduce_to_basis(MVElement(1, blade + inv_blade), basis_vectors, metric)\n",
    "            elements = [ASTElement(blade=inv_blade, factor=sign*element.factor, sources=element.sources) for element in element_sum.elements]\n",
    "            res.sums[res.blade_index[inv_blade]] = ASTSum(blade=inv_blade, elements=elements)\n",
    "    return res"
   ]
  },
  {
   "cell_type": "code",
   "execution_count": 403,
   "id": "convenient-buffer",
   "metadata": {},
   "outputs": [
    {
     "data": {
      "text/plain": [
       "A[15]e - A[11]e0 - A[12]e1 - A[13]e2 - A[14]e3 + A[8]e10 + A[9]e20 + A[10]e30 + A[5]e32 + A[6]e13 + A[7]e21 + A[1]e123 + A[2]e320 + A[3]e130 + A[4]e210 + A[0]e0123"
      ]
     },
     "execution_count": 403,
     "metadata": {},
     "output_type": "execute_result"
    }
   ],
   "source": [
    "a = functools.reduce(multivector_add, [make_element(\"A\", i, basis_vectors[i]) for i in range(len(basis_vectors))])\n",
    "multivector_dual(a)"
   ]
  },
  {
   "cell_type": "code",
   "execution_count": 404,
   "id": "extensive-lounge",
   "metadata": {},
   "outputs": [],
   "source": [
    "def multivector_norm(mv):\n",
    "    return multivector_mul(mv, multivector_conjugate(mv))"
   ]
  },
  {
   "cell_type": "code",
   "execution_count": 405,
   "id": "fossil-plumbing",
   "metadata": {},
   "outputs": [
    {
     "name": "stdout",
     "output_type": "stream",
     "text": [
      "(A[0]^2-A[1]^2+A[2]^2+A[3]^2+A[4]^2-A[5]^2-A[6]^2-A[7]^2+A[8]^2+A[9]^2+A[10]^2+A[11]^2-A[12]^2-A[13]^2-A[14]^2-A[15]^2)e + (2.0*A[0]A[11]+2.0*A[1]A[15]+2.0*A[2]A[8]+2.0*A[3]A[9]+2.0*A[4]A[10]-2.0*A[5]A[12]-2.0*A[6]A[13]-2.0*A[7]A[14])e123 + (2.0*A[0]A[12]-2.0*A[1]A[8]-2.0*A[2]A[15]+2.0*A[3]A[7]-2.0*A[4]A[6]-2.0*A[5]A[11]-2.0*A[9]A[14]+2.0*A[10]A[13])e320 + (2.0*A[0]A[13]-2.0*A[1]A[9]-2.0*A[2]A[7]-2.0*A[3]A[15]+2.0*A[4]A[5]-2.0*A[6]A[11]+2.0*A[8]A[14]-2.0*A[10]A[12])e130 + (2.0*A[0]A[14]-2.0*A[1]A[10]+2.0*A[2]A[6]-2.0*A[3]A[5]-2.0*A[4]A[15]-2.0*A[7]A[11]-2.0*A[8]A[13]+2.0*A[9]A[12])e210 + (2.0*A[0]A[15]+2.0*A[1]A[11]+2.0*A[2]A[12]+2.0*A[3]A[13]+2.0*A[4]A[14]-2.0*A[5]A[8]-2.0*A[6]A[9]-2.0*A[7]A[10])e0123\n",
      "\n",
      "(A[0]^2-A[1]^2+A[2]^2+A[3]^2+A[4]^2)e\n"
     ]
    }
   ],
   "source": [
    "a = functools.reduce(multivector_add, [make_element(\"A\", i, basis_vectors[i]) for i in range(len(basis_vectors))])\n",
    "print(multivector_norm(a))\n",
    "print()\n",
    "b = functools.reduce(multivector_add, [make_element(\"A\", i, basis_vectors[i]) for i in range(5)])\n",
    "print(multivector_norm(b))"
   ]
  },
  {
   "cell_type": "code",
   "execution_count": 436,
   "id": "moved-integer",
   "metadata": {},
   "outputs": [],
   "source": [
    "def blades_commute(blade0, blade1):\n",
    "    scalar0, prod0 = reduce_to_basis(MVElement(1, blade0 + blade1), basis_vectors, metric)\n",
    "    scalar1, prod1 = reduce_to_basis(MVElement(1, blade1 + blade0), basis_vectors, metric)\n",
    "    return scalar0 == scalar1"
   ]
  },
  {
   "cell_type": "code",
   "execution_count": 437,
   "id": "precise-partnership",
   "metadata": {},
   "outputs": [
    {
     "name": "stdout",
     "output_type": "stream",
     "text": [
      "True\n",
      "False\n",
      "False\n",
      "False\n"
     ]
    }
   ],
   "source": [
    "print(blades_commute((1,0), (3,2)))\n",
    "print(blades_commute((1,0), (2,0)))\n",
    "print(blades_commute((3,2), (1,3)))\n",
    "print(blades_commute((1,0), (1,3)))"
   ]
  },
  {
   "cell_type": "code",
   "execution_count": 438,
   "id": "generic-height",
   "metadata": {},
   "outputs": [],
   "source": [
    "def blade_square(blade):\n",
    "    scalar, sq_blade = reduce_to_basis(MVElement(1, blade + blade), basis_vectors, metric)\n",
    "    return scalar"
   ]
  },
  {
   "cell_type": "code",
   "execution_count": 439,
   "id": "thick-vegetable",
   "metadata": {},
   "outputs": [
    {
     "data": {
      "text/plain": [
       "-1.0"
      ]
     },
     "execution_count": 439,
     "metadata": {},
     "output_type": "execute_result"
    }
   ],
   "source": [
    "blade_square((3,2))"
   ]
  },
  {
   "cell_type": "code",
   "execution_count": 440,
   "id": "therapeutic-working",
   "metadata": {},
   "outputs": [],
   "source": [
    "def blade_groups(blades):\n",
    "    groups = dict()\n",
    "    for blade in blades:\n",
    "        key = (blade_square(blade), len(blade))\n",
    "        if key not in groups:\n",
    "            groups[key] = []\n",
    "        groups[key].append(blade)\n",
    "    return groups"
   ]
  },
  {
   "cell_type": "code",
   "execution_count": 435,
   "id": "center-period",
   "metadata": {},
   "outputs": [
    {
     "data": {
      "text/plain": [
       "{(1.0, 0): [()],\n",
       " (1.0, 1): [(0,)],\n",
       " (-1.0, 1): [(1,), (2,), (3,)],\n",
       " (1.0, 2): [(1, 0), (2, 0), (3, 0)],\n",
       " (-1.0, 2): [(3, 2), (1, 3), (2, 1)],\n",
       " (1.0, 3): [(1, 2, 3)],\n",
       " (-1.0, 3): [(3, 2, 0), (1, 3, 0), (2, 1, 0)],\n",
       " (-1.0, 4): [(0, 1, 2, 3)]}"
      ]
     },
     "execution_count": 435,
     "metadata": {},
     "output_type": "execute_result"
    }
   ],
   "source": [
    "blade_groups(basis_vectors)"
   ]
  },
  {
   "cell_type": "code",
   "execution_count": null,
   "id": "chemical-preview",
   "metadata": {},
   "outputs": [],
   "source": []
  },
  {
   "cell_type": "code",
   "execution_count": null,
   "id": "revolutionary-transparency",
   "metadata": {},
   "outputs": [],
   "source": [
    "def terms_cancel(source0, source1):\n",
    "    type0 = type(source0)\n",
    "    type1 = type(source1)\n",
    "    if type0 == type1\n",
    "        if type0 is ElementSource:\n",
    "            return (\n",
    "                source0.sourceID == source1.sourceID and \n",
    "                source0.loc == source1.loc and \n",
    "                elements_cancel(MVElement(1, source0.blade), MVElement(1, source1.blade))\n",
    "            )\n",
    "        elif type0 is BinaryOp:\n",
    "            if source0.op != source1.op:\n",
    "                return False\n",
    "            all_sources = [source0.source0, source0.source1, source1.source0, source1,source1]\n",
    "            if source0 in all_sources or source1 in all_sources:\n",
    "                raise ValueError(\"Sources must not be recursive!\")\n",
    "            if source0.op == \"plus\":\n",
    "                if source\n",
    "            elif source0.op == \"minus\"\n",
    "                pass\n",
    "            elif source0.op == \"product\" or source0.op == \"mul\":\n",
    "                \n",
    "                \n",
    "    else:\n",
    "        return False\n",
    "    "
   ]
  },
  {
   "cell_type": "code",
   "execution_count": 69,
   "id": "consistent-richards",
   "metadata": {},
   "outputs": [
    {
     "data": {
      "text/plain": [
       "ValueError"
      ]
     },
     "execution_count": 69,
     "metadata": {},
     "output_type": "execute_result"
    }
   ],
   "source": []
  },
  {
   "cell_type": "code",
   "execution_count": 165,
   "id": "floppy-turkish",
   "metadata": {},
   "outputs": [
    {
     "ename": "TypeError",
     "evalue": "__new__() takes 4 positional arguments but 5 were given",
     "output_type": "error",
     "traceback": [
      "\u001b[0;31m---------------------------------------------------------------------------\u001b[0m",
      "\u001b[0;31mTypeError\u001b[0m                                 Traceback (most recent call last)",
      "\u001b[0;32m<ipython-input-165-bad4486d5a7a>\u001b[0m in \u001b[0;36m<module>\u001b[0;34m\u001b[0m\n\u001b[1;32m     36\u001b[0m     \u001b[0;32mreturn\u001b[0m \u001b[0mres_type\u001b[0m\u001b[0;34m,\u001b[0m \u001b[0mmappings\u001b[0m\u001b[0;34m\u001b[0m\u001b[0;34m\u001b[0m\u001b[0m\n\u001b[1;32m     37\u001b[0m \u001b[0;34m\u001b[0m\u001b[0m\n\u001b[0;32m---> 38\u001b[0;31m \u001b[0mgenerate_plus\u001b[0m\u001b[0;34m(\u001b[0m\u001b[0mbasis_vectors\u001b[0m\u001b[0;34m,\u001b[0m \u001b[0mbasis_vectors\u001b[0m\u001b[0;34m)\u001b[0m\u001b[0;34m\u001b[0m\u001b[0;34m\u001b[0m\u001b[0m\n\u001b[0m",
      "\u001b[0;32m<ipython-input-165-bad4486d5a7a>\u001b[0m in \u001b[0;36mgenerate_plus\u001b[0;34m(blades0, blades1)\u001b[0m\n\u001b[1;32m     24\u001b[0m         \u001b[0melements\u001b[0m \u001b[0;34m=\u001b[0m \u001b[0;34m[\u001b[0m\u001b[0;34m]\u001b[0m\u001b[0;34m\u001b[0m\u001b[0;34m\u001b[0m\u001b[0m\n\u001b[1;32m     25\u001b[0m         \u001b[0;32mif\u001b[0m \u001b[0mres_blade\u001b[0m \u001b[0;32min\u001b[0m \u001b[0mblade_map_0\u001b[0m\u001b[0;34m:\u001b[0m\u001b[0;34m\u001b[0m\u001b[0;34m\u001b[0m\u001b[0m\n\u001b[0;32m---> 26\u001b[0;31m             \u001b[0melement\u001b[0m \u001b[0;34m=\u001b[0m \u001b[0mElementSource\u001b[0m\u001b[0;34m(\u001b[0m\u001b[0;34m\"v0\"\u001b[0m\u001b[0;34m,\u001b[0m \u001b[0;36m1\u001b[0m\u001b[0;34m,\u001b[0m \u001b[0mblade_map_0\u001b[0m\u001b[0;34m[\u001b[0m\u001b[0mres_blade\u001b[0m\u001b[0;34m]\u001b[0m\u001b[0;34m,\u001b[0m \u001b[0mres_blade\u001b[0m\u001b[0;34m)\u001b[0m\u001b[0;34m\u001b[0m\u001b[0;34m\u001b[0m\u001b[0m\n\u001b[0m\u001b[1;32m     27\u001b[0m             \u001b[0melements\u001b[0m\u001b[0;34m.\u001b[0m\u001b[0mappend\u001b[0m\u001b[0;34m(\u001b[0m\u001b[0melement\u001b[0m\u001b[0;34m)\u001b[0m\u001b[0;34m\u001b[0m\u001b[0;34m\u001b[0m\u001b[0m\n\u001b[1;32m     28\u001b[0m         \u001b[0;32mif\u001b[0m \u001b[0mres_blade\u001b[0m \u001b[0;32min\u001b[0m \u001b[0mblade_map_1\u001b[0m\u001b[0;34m:\u001b[0m\u001b[0;34m\u001b[0m\u001b[0;34m\u001b[0m\u001b[0m\n",
      "\u001b[0;31mTypeError\u001b[0m: __new__() takes 4 positional arguments but 5 were given"
     ]
    }
   ],
   "source": [
    "ElementSource = collections.namedtuple(\"ElementSource\", [\"sourceID\", \"loc\", \"blade\"])\n",
    "BinaryOp = collections.namedtuple(\"BinaryOp\", [\"op\", \"sign0\", \"sign1\", \"source0\", \"source1\"])\n",
    "ChainOp = collections.namedtuple(\"ChainOp\", [\"op\", \"signs\", \"sources\"])\n",
    "\n",
    "all_binary_ops = [\"plus\", \"minus\", \"product\", \"geometric_product\", \"inner_product\", \"outer_product\"]\n",
    "\n",
    "all_unary_ops = [\"reverse\", \"dual\", \"conjugate\", \"involution\"]\n",
    "\n",
    "def generate_plus(blades0, blades1):\n",
    "    blade_map_0 = dict(((v,i) for i,v in enumerate(blades0)))\n",
    "    blade_map_1 = dict(((v,i) for i,v in enumerate(blades1)))\n",
    "    \n",
    "    res_type = None\n",
    "    if np.all([b in blade_map_0 for b in blades1]):\n",
    "        res_type = blades0\n",
    "    elif np.all([b in blade_map_1 for b in blades0]):\n",
    "        res_type = blades1\n",
    "    else:\n",
    "        res_type = copy.copy(basis_vectors)\n",
    "    \n",
    "    mappings = []\n",
    "    for dest_idx, res_blade in enumerate(res_type):\n",
    "        dest = ElementSource(\"res\", dest_idx, res_blade)\n",
    "        elements = []\n",
    "        if res_blade in blade_map_0:\n",
    "            element = ElementSource(\"v0\", 1, blade_map_0[res_blade], res_blade)\n",
    "            elements.append(element)\n",
    "        if res_blade in blade_map_1:\n",
    "            element = ElementSource(\"v1\", 1, blade_map_1[res_blade], res_blade)\n",
    "            elements.append(element)\n",
    "        if len(elements) == 1:\n",
    "            mappings.append((dest, elements[0]))\n",
    "        elif len(elements) == 2:\n",
    "            bin_op = BinaryOp(\"plus\", elements[0], elements[1])\n",
    "            mappings.append((dest, bin_op))\n",
    "    return res_type, mappings\n",
    "\n",
    "generate_plus(basis_vectors, basis_vectors)"
   ]
  },
  {
   "cell_type": "code",
   "execution_count": 61,
   "id": "continuous-directory",
   "metadata": {
    "scrolled": false
   },
   "outputs": [
    {
     "data": {
      "text/plain": [
       "([(),\n",
       "  (0,),\n",
       "  (1,),\n",
       "  (2,),\n",
       "  (3,),\n",
       "  (1, 0),\n",
       "  (2, 0),\n",
       "  (3, 0),\n",
       "  (3, 2),\n",
       "  (1, 3),\n",
       "  (2, 1),\n",
       "  (1, 2, 3),\n",
       "  (3, 2, 0),\n",
       "  (1, 3, 0),\n",
       "  (2, 1, 0),\n",
       "  (0, 1, 2, 3)],\n",
       " [((),\n",
       "   ChainOp(op='plus', signs=[1.0, -1.0, -1.0, -1.0], sources=[BinaryOp(op='mul', sign0=1, sign1=1, source0=ElementSource(sourceID='v0', loc=0, blade=(0,)), source1=ElementSource(sourceID='v1', loc=0, blade=(0,))), BinaryOp(op='mul', sign0=1, sign1=1, source0=ElementSource(sourceID='v0', loc=1, blade=(1,)), source1=ElementSource(sourceID='v1', loc=1, blade=(1,))), BinaryOp(op='mul', sign0=1, sign1=1, source0=ElementSource(sourceID='v0', loc=2, blade=(2,)), source1=ElementSource(sourceID='v1', loc=2, blade=(2,))), BinaryOp(op='mul', sign0=1, sign1=1, source0=ElementSource(sourceID='v0', loc=3, blade=(3,)), source1=ElementSource(sourceID='v1', loc=3, blade=(3,)))])),\n",
       "  ((1, 0),\n",
       "   ChainOp(op='plus', signs=[-1.0, 1.0], sources=[BinaryOp(op='mul', sign0=1, sign1=1, source0=ElementSource(sourceID='v0', loc=0, blade=(0,)), source1=ElementSource(sourceID='v1', loc=1, blade=(1,))), BinaryOp(op='mul', sign0=1, sign1=1, source0=ElementSource(sourceID='v0', loc=1, blade=(1,)), source1=ElementSource(sourceID='v1', loc=0, blade=(0,)))])),\n",
       "  ((2, 0),\n",
       "   ChainOp(op='plus', signs=[-1.0, 1.0], sources=[BinaryOp(op='mul', sign0=1, sign1=1, source0=ElementSource(sourceID='v0', loc=0, blade=(0,)), source1=ElementSource(sourceID='v1', loc=2, blade=(2,))), BinaryOp(op='mul', sign0=1, sign1=1, source0=ElementSource(sourceID='v0', loc=2, blade=(2,)), source1=ElementSource(sourceID='v1', loc=0, blade=(0,)))])),\n",
       "  ((3, 0),\n",
       "   ChainOp(op='plus', signs=[-1.0, 1.0], sources=[BinaryOp(op='mul', sign0=1, sign1=1, source0=ElementSource(sourceID='v0', loc=0, blade=(0,)), source1=ElementSource(sourceID='v1', loc=3, blade=(3,))), BinaryOp(op='mul', sign0=1, sign1=1, source0=ElementSource(sourceID='v0', loc=3, blade=(3,)), source1=ElementSource(sourceID='v1', loc=0, blade=(0,)))])),\n",
       "  ((3, 2),\n",
       "   ChainOp(op='plus', signs=[-1.0, 1.0], sources=[BinaryOp(op='mul', sign0=1, sign1=1, source0=ElementSource(sourceID='v0', loc=2, blade=(2,)), source1=ElementSource(sourceID='v1', loc=3, blade=(3,))), BinaryOp(op='mul', sign0=1, sign1=1, source0=ElementSource(sourceID='v0', loc=3, blade=(3,)), source1=ElementSource(sourceID='v1', loc=2, blade=(2,)))])),\n",
       "  ((1, 3),\n",
       "   ChainOp(op='plus', signs=[1.0, -1.0], sources=[BinaryOp(op='mul', sign0=1, sign1=1, source0=ElementSource(sourceID='v0', loc=1, blade=(1,)), source1=ElementSource(sourceID='v1', loc=3, blade=(3,))), BinaryOp(op='mul', sign0=1, sign1=1, source0=ElementSource(sourceID='v0', loc=3, blade=(3,)), source1=ElementSource(sourceID='v1', loc=1, blade=(1,)))])),\n",
       "  ((2, 1),\n",
       "   ChainOp(op='plus', signs=[-1.0, 1.0], sources=[BinaryOp(op='mul', sign0=1, sign1=1, source0=ElementSource(sourceID='v0', loc=1, blade=(1,)), source1=ElementSource(sourceID='v1', loc=2, blade=(2,))), BinaryOp(op='mul', sign0=1, sign1=1, source0=ElementSource(sourceID='v0', loc=2, blade=(2,)), source1=ElementSource(sourceID='v1', loc=1, blade=(1,)))]))])"
      ]
     },
     "execution_count": 61,
     "metadata": {},
     "output_type": "execute_result"
    }
   ],
   "source": [
    "def generate_product(blades0, blades1):\n",
    "    blade_map_0 = dict(((v,i) for i,v in enumerate(blades0)))\n",
    "    blade_map_1 = dict(((v,i) for i,v in enumerate(blades1)))\n",
    "    \n",
    "    res_type = determine_product_rank(blades0, blades1)\n",
    "    \n",
    "    if res_type not in valid_bases:\n",
    "        res_type = copy.copy(basis_vectors)\n",
    "    \n",
    "    res_blade_map = dict((v,i) for i,v in enumerate(res_type))\n",
    "    \n",
    "    mappings = {}\n",
    "    for dest_idx, res_blade in enumerate(res_type):\n",
    "        dest = ElementSource(\"res\", dest_idx, res_blade)\n",
    "        mappings[dest] = ChainOp(\"plus\", [], [])\n",
    "    for blade0 in blades0:\n",
    "        for blade1 in blades0:\n",
    "            product_element = reduce_to_basis(MVElement(1.0, blade0 + blade1), basis_vectors, metric)\n",
    "            res_blade = product_element.blade\n",
    "            dest = ElementSource(\"res\", res_blade_map[res_blade], res_blade)\n",
    "            element0 = ElementSource(\"v0\", blade_map_0[blade0], blade0)\n",
    "            element1 = ElementSource(\"v1\", blade_map_1[blade1], blade1)\n",
    "            product = BinaryOp(\"mul\", 1, 1, element0, element1)\n",
    "            mappings[dest].sources.append(product)\n",
    "            mappings[dest].signs.append(product_element.scalar)\n",
    "    mappings = [(lambda blade, i: (res_blade, mappings[ElementSource(\"res\", i, blade)]))(res_blade, res_blade_map[res_blade]) for res_blade in res_type]\n",
    "    mappings = [(k, v) for  k,v in mappings if len(v.signs) > 0]\n",
    "    return res_type, mappings\n",
    "\n",
    "#generate_product(basis_vectors, basis_vectors)\n",
    "generate_product(four_vector_blades, four_vector_blades)"
   ]
  },
  {
   "cell_type": "code",
   "execution_count": 47,
   "id": "disciplinary-neighbor",
   "metadata": {},
   "outputs": [],
   "source": []
  },
  {
   "cell_type": "code",
   "execution_count": null,
   "id": "thirty-skating",
   "metadata": {},
   "outputs": [],
   "source": []
  },
  {
   "cell_type": "code",
   "execution_count": null,
   "id": "naval-apollo",
   "metadata": {},
   "outputs": [],
   "source": []
  },
  {
   "cell_type": "code",
   "execution_count": null,
   "id": "tracked-raise",
   "metadata": {},
   "outputs": [],
   "source": []
  },
  {
   "cell_type": "code",
   "execution_count": null,
   "id": "regulation-special",
   "metadata": {},
   "outputs": [],
   "source": []
  }
 ],
 "metadata": {
  "kernelspec": {
   "display_name": "Python 3",
   "language": "python",
   "name": "python3"
  },
  "language_info": {
   "codemirror_mode": {
    "name": "ipython",
    "version": 3
   },
   "file_extension": ".py",
   "mimetype": "text/x-python",
   "name": "python",
   "nbconvert_exporter": "python",
   "pygments_lexer": "ipython3",
   "version": "3.8.10"
  }
 },
 "nbformat": 4,
 "nbformat_minor": 5
}
